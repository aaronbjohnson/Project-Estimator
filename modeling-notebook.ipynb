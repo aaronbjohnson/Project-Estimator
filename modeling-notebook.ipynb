{
 "cells": [
  {
   "cell_type": "code",
   "execution_count": 1,
   "metadata": {},
   "outputs": [],
   "source": [
    "import pandas as pd\n",
    "import numpy as np\n",
    "from sklearn.preprocessing import LabelEncoder\n",
    "from sklearn.linear_model import LinearRegression\n",
    "import statsmodels.formula.api as sm\n",
    "import datetime\n",
    "from sklearn.externals import joblib"
   ]
  },
  {
   "cell_type": "code",
   "execution_count": 2,
   "metadata": {},
   "outputs": [],
   "source": [
    "df = pd.read_csv('./data/20190401_projects.csv')"
   ]
  },
  {
   "cell_type": "code",
   "execution_count": 3,
   "metadata": {},
   "outputs": [
    {
     "data": {
      "text/html": [
       "<div>\n",
       "<style scoped>\n",
       "    .dataframe tbody tr th:only-of-type {\n",
       "        vertical-align: middle;\n",
       "    }\n",
       "\n",
       "    .dataframe tbody tr th {\n",
       "        vertical-align: top;\n",
       "    }\n",
       "\n",
       "    .dataframe thead th {\n",
       "        text-align: right;\n",
       "    }\n",
       "</style>\n",
       "<table border=\"1\" class=\"dataframe\">\n",
       "  <thead>\n",
       "    <tr style=\"text-align: right;\">\n",
       "      <th></th>\n",
       "      <th>project</th>\n",
       "      <th>case_type</th>\n",
       "      <th>number_pages</th>\n",
       "      <th>3d_modeling</th>\n",
       "      <th>hours</th>\n",
       "      <th>visio</th>\n",
       "    </tr>\n",
       "  </thead>\n",
       "  <tbody>\n",
       "    <tr>\n",
       "      <th>0</th>\n",
       "      <td>1568503_111US8_IIG</td>\n",
       "      <td>design</td>\n",
       "      <td>6</td>\n",
       "      <td>no</td>\n",
       "      <td>2.75</td>\n",
       "      <td>no</td>\n",
       "    </tr>\n",
       "    <tr>\n",
       "      <th>1</th>\n",
       "      <td>847US1_DF_IIG</td>\n",
       "      <td>utility</td>\n",
       "      <td>16</td>\n",
       "      <td>no</td>\n",
       "      <td>11.00</td>\n",
       "      <td>no</td>\n",
       "    </tr>\n",
       "    <tr>\n",
       "      <th>2</th>\n",
       "      <td>7142_002_SMF_IIG</td>\n",
       "      <td>utility</td>\n",
       "      <td>5</td>\n",
       "      <td>no</td>\n",
       "      <td>3.75</td>\n",
       "      <td>no</td>\n",
       "    </tr>\n",
       "    <tr>\n",
       "      <th>3</th>\n",
       "      <td>843US1_CC_IIG</td>\n",
       "      <td>utility</td>\n",
       "      <td>9</td>\n",
       "      <td>no</td>\n",
       "      <td>5.75</td>\n",
       "      <td>no</td>\n",
       "    </tr>\n",
       "    <tr>\n",
       "      <th>4</th>\n",
       "      <td>34608_EG_IIG</td>\n",
       "      <td>utility</td>\n",
       "      <td>4</td>\n",
       "      <td>no</td>\n",
       "      <td>7.25</td>\n",
       "      <td>no</td>\n",
       "    </tr>\n",
       "  </tbody>\n",
       "</table>\n",
       "</div>"
      ],
      "text/plain": [
       "              project case_type  number_pages 3d_modeling  hours visio\n",
       "0  1568503_111US8_IIG    design             6          no   2.75    no\n",
       "1       847US1_DF_IIG   utility            16          no  11.00    no\n",
       "2    7142_002_SMF_IIG   utility             5          no   3.75    no\n",
       "3       843US1_CC_IIG   utility             9          no   5.75    no\n",
       "4        34608_EG_IIG   utility             4          no   7.25    no"
      ]
     },
     "execution_count": 3,
     "metadata": {},
     "output_type": "execute_result"
    }
   ],
   "source": [
    "df.head()"
   ]
  },
  {
   "cell_type": "code",
   "execution_count": 4,
   "metadata": {},
   "outputs": [],
   "source": [
    "# Feature Engineering\n",
    "\n",
    "# Create a new variable that records 'hours' / 'number_pages'\n",
    "df['hour_page'] = df['hours'] / df['number_pages']"
   ]
  },
  {
   "cell_type": "markdown",
   "metadata": {},
   "source": [
    "## Create difficulty column"
   ]
  },
  {
   "cell_type": "code",
   "execution_count": 5,
   "metadata": {},
   "outputs": [],
   "source": [
    "# Create variables to store location of difficulty bins\n",
    "level_one = 0.5\n",
    "level_two = 1.25\n",
    "level_three = 2.5\n",
    "level_four = 3.75"
   ]
  },
  {
   "cell_type": "code",
   "execution_count": 6,
   "metadata": {},
   "outputs": [],
   "source": [
    "def get_difficulty(row):\n",
    "    difficulty = 0\n",
    "    if row.hour_page < level_one:\n",
    "        difficulty = 1\n",
    "    elif (row.hour_page >= level_one) & (row.hour_page < level_two):\n",
    "        difficulty = 2\n",
    "    elif (row.hour_page >= level_two) & (row.hour_page < level_three):\n",
    "        difficulty = 3\n",
    "    elif (row.hour_page >= level_three) & (row.hour_page < level_four):\n",
    "        difficulty = 4\n",
    "    elif (row.hour_page >= level_four):\n",
    "        difficulty = 5\n",
    "    else:\n",
    "        return difficulty\n",
    "\n",
    "    return difficulty"
   ]
  },
  {
   "cell_type": "code",
   "execution_count": 7,
   "metadata": {},
   "outputs": [],
   "source": [
    "# Create Difficulty column\n",
    "df['difficulty'] = df.apply(get_difficulty, axis=1)"
   ]
  },
  {
   "cell_type": "code",
   "execution_count": 8,
   "metadata": {},
   "outputs": [
    {
     "data": {
      "text/html": [
       "<div>\n",
       "<style scoped>\n",
       "    .dataframe tbody tr th:only-of-type {\n",
       "        vertical-align: middle;\n",
       "    }\n",
       "\n",
       "    .dataframe tbody tr th {\n",
       "        vertical-align: top;\n",
       "    }\n",
       "\n",
       "    .dataframe thead th {\n",
       "        text-align: right;\n",
       "    }\n",
       "</style>\n",
       "<table border=\"1\" class=\"dataframe\">\n",
       "  <thead>\n",
       "    <tr style=\"text-align: right;\">\n",
       "      <th></th>\n",
       "      <th>project</th>\n",
       "      <th>case_type</th>\n",
       "      <th>number_pages</th>\n",
       "      <th>3d_modeling</th>\n",
       "      <th>hours</th>\n",
       "      <th>visio</th>\n",
       "      <th>hour_page</th>\n",
       "      <th>difficulty</th>\n",
       "    </tr>\n",
       "  </thead>\n",
       "  <tbody>\n",
       "    <tr>\n",
       "      <th>0</th>\n",
       "      <td>1568503_111US8_IIG</td>\n",
       "      <td>design</td>\n",
       "      <td>6</td>\n",
       "      <td>no</td>\n",
       "      <td>2.75</td>\n",
       "      <td>no</td>\n",
       "      <td>0.458333</td>\n",
       "      <td>1</td>\n",
       "    </tr>\n",
       "    <tr>\n",
       "      <th>1</th>\n",
       "      <td>847US1_DF_IIG</td>\n",
       "      <td>utility</td>\n",
       "      <td>16</td>\n",
       "      <td>no</td>\n",
       "      <td>11.00</td>\n",
       "      <td>no</td>\n",
       "      <td>0.687500</td>\n",
       "      <td>2</td>\n",
       "    </tr>\n",
       "    <tr>\n",
       "      <th>2</th>\n",
       "      <td>7142_002_SMF_IIG</td>\n",
       "      <td>utility</td>\n",
       "      <td>5</td>\n",
       "      <td>no</td>\n",
       "      <td>3.75</td>\n",
       "      <td>no</td>\n",
       "      <td>0.750000</td>\n",
       "      <td>2</td>\n",
       "    </tr>\n",
       "    <tr>\n",
       "      <th>3</th>\n",
       "      <td>843US1_CC_IIG</td>\n",
       "      <td>utility</td>\n",
       "      <td>9</td>\n",
       "      <td>no</td>\n",
       "      <td>5.75</td>\n",
       "      <td>no</td>\n",
       "      <td>0.638889</td>\n",
       "      <td>2</td>\n",
       "    </tr>\n",
       "    <tr>\n",
       "      <th>4</th>\n",
       "      <td>34608_EG_IIG</td>\n",
       "      <td>utility</td>\n",
       "      <td>4</td>\n",
       "      <td>no</td>\n",
       "      <td>7.25</td>\n",
       "      <td>no</td>\n",
       "      <td>1.812500</td>\n",
       "      <td>3</td>\n",
       "    </tr>\n",
       "  </tbody>\n",
       "</table>\n",
       "</div>"
      ],
      "text/plain": [
       "              project case_type  number_pages 3d_modeling  hours visio  \\\n",
       "0  1568503_111US8_IIG    design             6          no   2.75    no   \n",
       "1       847US1_DF_IIG   utility            16          no  11.00    no   \n",
       "2    7142_002_SMF_IIG   utility             5          no   3.75    no   \n",
       "3       843US1_CC_IIG   utility             9          no   5.75    no   \n",
       "4        34608_EG_IIG   utility             4          no   7.25    no   \n",
       "\n",
       "   hour_page  difficulty  \n",
       "0   0.458333           1  \n",
       "1   0.687500           2  \n",
       "2   0.750000           2  \n",
       "3   0.638889           2  \n",
       "4   1.812500           3  "
      ]
     },
     "execution_count": 8,
     "metadata": {},
     "output_type": "execute_result"
    }
   ],
   "source": [
    "df.head()"
   ]
  },
  {
   "cell_type": "markdown",
   "metadata": {},
   "source": [
    "## Modeling"
   ]
  },
  {
   "cell_type": "code",
   "execution_count": 9,
   "metadata": {},
   "outputs": [],
   "source": [
    "# Make a copy of df\n",
    "df2 = df.copy()"
   ]
  },
  {
   "cell_type": "code",
   "execution_count": 10,
   "metadata": {},
   "outputs": [],
   "source": [
    "# Define binary categorical variables to be encoded\n",
    "binary_categorical_to_encode = ['case_type', '3d_modeling']"
   ]
  },
  {
   "cell_type": "code",
   "execution_count": 11,
   "metadata": {},
   "outputs": [],
   "source": [
    "def label_encode(dataset, column):\n",
    "    \"\"\"\n",
    "    This will encode a binary categorical variable.\n",
    "    Column needs to be a string\n",
    "    \"\"\"\n",
    "    labelencoder_X = LabelEncoder()\n",
    "    dataset[column] = labelencoder_X.fit_transform(dataset[column])\n",
    "    return"
   ]
  },
  {
   "cell_type": "code",
   "execution_count": 12,
   "metadata": {},
   "outputs": [],
   "source": [
    "\n",
    "# Label encode binary categorical columns\n",
    "for variable in binary_categorical_to_encode:\n",
    "    label_encode(df2, variable)"
   ]
  },
  {
   "cell_type": "code",
   "execution_count": 13,
   "metadata": {},
   "outputs": [],
   "source": [
    "cols_to_use = ['number_pages', '3d_modeling', 'difficulty']\n",
    "\n",
    "X = df2[cols_to_use]\n",
    "y = df2.hours\n",
    "y = y.values.reshape(-1,1)"
   ]
  },
  {
   "cell_type": "markdown",
   "metadata": {},
   "source": [
    "#### Train Test Split"
   ]
  },
  {
   "cell_type": "code",
   "execution_count": 14,
   "metadata": {},
   "outputs": [],
   "source": [
    "# Not doing the Train test split as we've tested this in the RStudios notebook. Here we're just constructing\n",
    "# a model\n",
    "\n",
    "\n",
    "# Splitting the dataset into the Training set and Test set\n",
    "#from sklearn.model_selection import train_test_split\n",
    "#X_train, X_test, y_train, y_test = train_test_split(X, y, test_size = .3, random_state = 0)"
   ]
  },
  {
   "cell_type": "markdown",
   "metadata": {},
   "source": [
    "#### Fitting Multiple Linear Regression to Training Set"
   ]
  },
  {
   "cell_type": "code",
   "execution_count": 15,
   "metadata": {},
   "outputs": [
    {
     "data": {
      "text/plain": [
       "LinearRegression(copy_X=True, fit_intercept=True, n_jobs=None,\n",
       "         normalize=False)"
      ]
     },
     "execution_count": 15,
     "metadata": {},
     "output_type": "execute_result"
    }
   ],
   "source": [
    "regressor = LinearRegression()\n",
    "regressor.fit(X, y)"
   ]
  },
  {
   "cell_type": "code",
   "execution_count": 16,
   "metadata": {},
   "outputs": [
    {
     "data": {
      "text/html": [
       "<div>\n",
       "<style scoped>\n",
       "    .dataframe tbody tr th:only-of-type {\n",
       "        vertical-align: middle;\n",
       "    }\n",
       "\n",
       "    .dataframe tbody tr th {\n",
       "        vertical-align: top;\n",
       "    }\n",
       "\n",
       "    .dataframe thead th {\n",
       "        text-align: right;\n",
       "    }\n",
       "</style>\n",
       "<table border=\"1\" class=\"dataframe\">\n",
       "  <thead>\n",
       "    <tr style=\"text-align: right;\">\n",
       "      <th></th>\n",
       "      <th>number_pages</th>\n",
       "      <th>3d_modeling</th>\n",
       "      <th>difficulty</th>\n",
       "    </tr>\n",
       "  </thead>\n",
       "  <tbody>\n",
       "    <tr>\n",
       "      <th>0</th>\n",
       "      <td>6</td>\n",
       "      <td>0</td>\n",
       "      <td>1</td>\n",
       "    </tr>\n",
       "  </tbody>\n",
       "</table>\n",
       "</div>"
      ],
      "text/plain": [
       "   number_pages  3d_modeling  difficulty\n",
       "0             6            0           1"
      ]
     },
     "execution_count": 16,
     "metadata": {},
     "output_type": "execute_result"
    }
   ],
   "source": [
    "X.head(1)"
   ]
  },
  {
   "cell_type": "code",
   "execution_count": 17,
   "metadata": {},
   "outputs": [
    {
     "data": {
      "text/html": [
       "<table class=\"simpletable\">\n",
       "<caption>OLS Regression Results</caption>\n",
       "<tr>\n",
       "  <th>Dep. Variable:</th>            <td>y</td>        <th>  R-squared:         </th> <td>   0.760</td>\n",
       "</tr>\n",
       "<tr>\n",
       "  <th>Model:</th>                   <td>OLS</td>       <th>  Adj. R-squared:    </th> <td>   0.755</td>\n",
       "</tr>\n",
       "<tr>\n",
       "  <th>Method:</th>             <td>Least Squares</td>  <th>  F-statistic:       </th> <td>   152.6</td>\n",
       "</tr>\n",
       "<tr>\n",
       "  <th>Date:</th>             <td>Tue, 30 Apr 2019</td> <th>  Prob (F-statistic):</th> <td>1.14e-44</td>\n",
       "</tr>\n",
       "<tr>\n",
       "  <th>Time:</th>                 <td>13:53:13</td>     <th>  Log-Likelihood:    </th> <td> -317.01</td>\n",
       "</tr>\n",
       "<tr>\n",
       "  <th>No. Observations:</th>      <td>   149</td>      <th>  AIC:               </th> <td>   642.0</td>\n",
       "</tr>\n",
       "<tr>\n",
       "  <th>Df Residuals:</th>          <td>   145</td>      <th>  BIC:               </th> <td>   654.0</td>\n",
       "</tr>\n",
       "<tr>\n",
       "  <th>Df Model:</th>              <td>     3</td>      <th>                     </th>     <td> </td>   \n",
       "</tr>\n",
       "<tr>\n",
       "  <th>Covariance Type:</th>      <td>nonrobust</td>    <th>                     </th>     <td> </td>   \n",
       "</tr>\n",
       "</table>\n",
       "<table class=\"simpletable\">\n",
       "<tr>\n",
       "    <td></td>       <th>coef</th>     <th>std err</th>      <th>t</th>      <th>P>|t|</th>  <th>[0.025</th>    <th>0.975]</th>  \n",
       "</tr>\n",
       "<tr>\n",
       "  <th>const</th> <td>   -5.8074</td> <td>    0.660</td> <td>   -8.799</td> <td> 0.000</td> <td>   -7.112</td> <td>   -4.503</td>\n",
       "</tr>\n",
       "<tr>\n",
       "  <th>x1</th>    <td>    0.5738</td> <td>    0.029</td> <td>   20.040</td> <td> 0.000</td> <td>    0.517</td> <td>    0.630</td>\n",
       "</tr>\n",
       "<tr>\n",
       "  <th>x2</th>    <td>    0.7862</td> <td>    0.419</td> <td>    1.875</td> <td> 0.063</td> <td>   -0.043</td> <td>    1.615</td>\n",
       "</tr>\n",
       "<tr>\n",
       "  <th>x3</th>    <td>    3.4832</td> <td>    0.266</td> <td>   13.100</td> <td> 0.000</td> <td>    2.958</td> <td>    4.009</td>\n",
       "</tr>\n",
       "</table>\n",
       "<table class=\"simpletable\">\n",
       "<tr>\n",
       "  <th>Omnibus:</th>       <td>57.775</td> <th>  Durbin-Watson:     </th> <td>   2.054</td>\n",
       "</tr>\n",
       "<tr>\n",
       "  <th>Prob(Omnibus):</th> <td> 0.000</td> <th>  Jarque-Bera (JB):  </th> <td> 209.642</td>\n",
       "</tr>\n",
       "<tr>\n",
       "  <th>Skew:</th>          <td> 1.429</td> <th>  Prob(JB):          </th> <td>3.00e-46</td>\n",
       "</tr>\n",
       "<tr>\n",
       "  <th>Kurtosis:</th>      <td> 8.060</td> <th>  Cond. No.          </th> <td>    43.0</td>\n",
       "</tr>\n",
       "</table><br/><br/>Warnings:<br/>[1] Standard Errors assume that the covariance matrix of the errors is correctly specified."
      ],
      "text/plain": [
       "<class 'statsmodels.iolib.summary.Summary'>\n",
       "\"\"\"\n",
       "                            OLS Regression Results                            \n",
       "==============================================================================\n",
       "Dep. Variable:                      y   R-squared:                       0.760\n",
       "Model:                            OLS   Adj. R-squared:                  0.755\n",
       "Method:                 Least Squares   F-statistic:                     152.6\n",
       "Date:                Tue, 30 Apr 2019   Prob (F-statistic):           1.14e-44\n",
       "Time:                        13:53:13   Log-Likelihood:                -317.01\n",
       "No. Observations:                 149   AIC:                             642.0\n",
       "Df Residuals:                     145   BIC:                             654.0\n",
       "Df Model:                           3                                         \n",
       "Covariance Type:            nonrobust                                         \n",
       "==============================================================================\n",
       "                 coef    std err          t      P>|t|      [0.025      0.975]\n",
       "------------------------------------------------------------------------------\n",
       "const         -5.8074      0.660     -8.799      0.000      -7.112      -4.503\n",
       "x1             0.5738      0.029     20.040      0.000       0.517       0.630\n",
       "x2             0.7862      0.419      1.875      0.063      -0.043       1.615\n",
       "x3             3.4832      0.266     13.100      0.000       2.958       4.009\n",
       "==============================================================================\n",
       "Omnibus:                       57.775   Durbin-Watson:                   2.054\n",
       "Prob(Omnibus):                  0.000   Jarque-Bera (JB):              209.642\n",
       "Skew:                           1.429   Prob(JB):                     3.00e-46\n",
       "Kurtosis:                       8.060   Cond. No.                         43.0\n",
       "==============================================================================\n",
       "\n",
       "Warnings:\n",
       "[1] Standard Errors assume that the covariance matrix of the errors is correctly specified.\n",
       "\"\"\""
      ]
     },
     "execution_count": 17,
     "metadata": {},
     "output_type": "execute_result"
    }
   ],
   "source": [
    "X = np.append(arr = np.ones((len(X),1)).astype(int), values = X, axis = 1)\n",
    "X_opt = X[:, [0, 1, 2, 3]]\n",
    "regressor_OLS = sm.OLS(endog = y, exog = X_opt).fit()\n",
    "regressor_OLS.summary()"
   ]
  },
  {
   "cell_type": "markdown",
   "metadata": {},
   "source": [
    "## Store the Model"
   ]
  },
  {
   "cell_type": "code",
   "execution_count": 20,
   "metadata": {},
   "outputs": [],
   "source": [
    "# NAMING SAVED MODELS\n",
    "model_prefix = 'linear-regression_'\n",
    "# Get current date for model nameing\n",
    "current_date = (datetime.date.today().strftime('%Y%m%d'))\n",
    "# Full model file name\n",
    "model_name = './models/' + model_prefix + current_date + '.joblib'"
   ]
  },
  {
   "cell_type": "code",
   "execution_count": 21,
   "metadata": {},
   "outputs": [
    {
     "data": {
      "text/plain": [
       "['./models/linear-regression_20190430.joblib']"
      ]
     },
     "execution_count": 21,
     "metadata": {},
     "output_type": "execute_result"
    }
   ],
   "source": [
    "# Store the model\n",
    "joblib.dump(regressor, model_name)"
   ]
  },
  {
   "cell_type": "code",
   "execution_count": null,
   "metadata": {},
   "outputs": [],
   "source": []
  }
 ],
 "metadata": {
  "kernelspec": {
   "display_name": "Python 3",
   "language": "python",
   "name": "python3"
  },
  "language_info": {
   "codemirror_mode": {
    "name": "ipython",
    "version": 3
   },
   "file_extension": ".py",
   "mimetype": "text/x-python",
   "name": "python",
   "nbconvert_exporter": "python",
   "pygments_lexer": "ipython3",
   "version": "3.7.1"
  }
 },
 "nbformat": 4,
 "nbformat_minor": 2
}
